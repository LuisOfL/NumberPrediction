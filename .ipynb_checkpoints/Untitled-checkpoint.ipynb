{
 "cells": [
  {
   "cell_type": "code",
   "execution_count": 3,
   "id": "be1998bf-f923-4713-bb7c-ba8ae640776f",
   "metadata": {},
   "outputs": [
    {
     "name": "stdout",
     "output_type": "stream",
     "text": [
      "   label  pixel0  pixel1  pixel2  pixel3  pixel4  pixel5  pixel6  pixel7  \\\n",
      "0      1       0       0       0       0       0       0       0       0   \n",
      "1      0       0       0       0       0       0       0       0       0   \n",
      "2      1       0       0       0       0       0       0       0       0   \n",
      "3      4       0       0       0       0       0       0       0       0   \n",
      "4      0       0       0       0       0       0       0       0       0   \n",
      "\n",
      "   pixel8  ...  pixel774  pixel775  pixel776  pixel777  pixel778  pixel779  \\\n",
      "0       0  ...         0         0         0         0         0         0   \n",
      "1       0  ...         0         0         0         0         0         0   \n",
      "2       0  ...         0         0         0         0         0         0   \n",
      "3       0  ...         0         0         0         0         0         0   \n",
      "4       0  ...         0         0         0         0         0         0   \n",
      "\n",
      "   pixel780  pixel781  pixel782  pixel783  \n",
      "0         0         0         0         0  \n",
      "1         0         0         0         0  \n",
      "2         0         0         0         0  \n",
      "3         0         0         0         0  \n",
      "4         0         0         0         0  \n",
      "\n",
      "[5 rows x 785 columns]\n"
     ]
    }
   ],
   "source": [
    "def knn_completo(df, nueva_imagen=None, n_neighbors=5):\n",
    "    \"\"\"\n",
    "    Implementación completa de KNN para dígitos manuscritos\n",
    "    \"\"\"\n",
    "    # 1. Preparar datos\n",
    "    X = df.drop('label', axis=1).values\n",
    "    y = df['label'].values\n",
    "    \n",
    "    # 2. Dividir datos\n",
    "    X_train, X_test, y_train, y_test = train_test_split(\n",
    "        X, y, test_size=0.2, random_state=42, stratify=y\n",
    "    )\n",
    "    \n",
    "    # 3. Entrenar KNN\n",
    "    knn = KNeighborsClassifier(n_neighbors=n_neighbors)\n",
    "    knn.fit(X_train, y_train)\n",
    "    \n",
    "    # 4. Evaluar\n",
    "    y_pred = knn.predict(X_test)\n",
    "    accuracy = accuracy_score(y_test, y_pred)\n",
    "    \n",
    "    print(\"=== MODELO KNN ENTRENADO ===\")\n",
    "    print(f\"Precisión: {accuracy:.4f}\")\n",
    "    print(f\"Total de muestras: {len(X)}\")\n",
    "    print(f\"Entrenamiento: {len(X_train)}, Prueba: {len(X_test)}\")\n",
    "    \n",
    "    # 5. Si se proporciona una nueva imagen, predecirla\n",
    "    if nueva_imagen is not None:\n",
    "        print(\"\\n=== PREDICCIÓN DE NUEVA IMAGEN ===\")\n",
    "        digito, probabilidades = predecir_digito(knn, nueva_imagen)\n",
    "        \n",
    "        # Visualizar la imagen\n",
    "        visualizar_imagen(nueva_imagen, digito)\n",
    "        \n",
    "        return knn, digito, probabilidades\n",
    "    \n",
    "    return knn, accuracy\n",
    "\n",
    "def visualizar_imagen(pixels, prediccion):\n",
    "    \"\"\"\n",
    "    Visualiza la imagen de 28x28 píxeles\n",
    "    \"\"\"\n",
    "    # Reformatear a 28x28\n",
    "    imagen = np.array(pixels).reshape(28, 28)\n",
    "    \n",
    "    plt.figure(figsize=(6, 6))\n",
    "    plt.imshow(imagen, cmap='gray')\n",
    "    plt.title(f'Predicción: {prediccion}')\n",
    "    plt.axis('off')\n",
    "    plt.show()\n",
    "\n",
    "# Usar la función completa\n",
    "knn_model, accuracy = knn_completo(df)"
   ]
  },
  {
   "cell_type": "code",
   "execution_count": null,
   "id": "c73e4d49-5989-431b-b4e2-9de224f739b1",
   "metadata": {},
   "outputs": [],
   "source": []
  }
 ],
 "metadata": {
  "kernelspec": {
   "display_name": "Python [conda env:Curso]",
   "language": "python",
   "name": "conda-env-Curso-py"
  },
  "language_info": {
   "codemirror_mode": {
    "name": "ipython",
    "version": 3
   },
   "file_extension": ".py",
   "mimetype": "text/x-python",
   "name": "python",
   "nbconvert_exporter": "python",
   "pygments_lexer": "ipython3",
   "version": "3.12.8"
  }
 },
 "nbformat": 4,
 "nbformat_minor": 5
}
